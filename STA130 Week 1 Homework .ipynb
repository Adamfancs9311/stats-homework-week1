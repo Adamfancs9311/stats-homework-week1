{
 "cells": [
  {
   "cell_type": "markdown",
   "id": "a3b2cf46",
   "metadata": {},
   "source": [
    "1. Importing the dataset "
   ]
  },
  {
   "cell_type": "code",
   "execution_count": 2,
   "id": "79ae0e8b",
   "metadata": {},
   "outputs": [
    {
     "data": {
      "text/plain": [
       "row_n           0\n",
       "id              1\n",
       "name            0\n",
       "gender          0\n",
       "species         0\n",
       "birthday        0\n",
       "personality     0\n",
       "song           11\n",
       "phrase          0\n",
       "full_id         0\n",
       "url             0\n",
       "dtype: int64"
      ]
     },
     "execution_count": 2,
     "metadata": {},
     "output_type": "execute_result"
    }
   ],
   "source": [
    "import pandas as pd\n",
    "url = \"https://raw.githubusercontent.com/rfordatascience/tidytuesday/master/data/2020/2020-05-05/villagers.csv\"\n",
    "df = pd.read_csv(url)\n",
    "df.isna().sum()"
   ]
  },
  {
   "cell_type": "markdown",
   "id": "62e62ad6",
   "metadata": {},
   "source": [
    "2. \n",
    "prompt: I've already downloaded the data and want to understand the size (or dimensions) of the dataset to start with\n",
    "\n",
    "ChatGPT: \n",
    "1. Number of Rows (Records): This will give you the total number of data points in the dataset.\n",
    "\n",
    "In Python (with pandas), you can use:\n",
    "df.shape[0]\n",
    "\n",
    "2. Number of Columns (Features): This will indicate how many variables or features the dataset has.\n",
    "\n",
    "You can get this with:\n",
    "df.shape[1]"
   ]
  },
  {
   "cell_type": "code",
   "execution_count": 4,
   "id": "c8464841",
   "metadata": {},
   "outputs": [
    {
     "data": {
      "text/plain": [
       "391"
      ]
     },
     "execution_count": 4,
     "metadata": {},
     "output_type": "execute_result"
    }
   ],
   "source": [
    "df.shape[0]"
   ]
  },
  {
   "cell_type": "code",
   "execution_count": 5,
   "id": "a5c0971f",
   "metadata": {},
   "outputs": [
    {
     "data": {
      "text/plain": [
       "11"
      ]
     },
     "execution_count": 5,
     "metadata": {},
     "output_type": "execute_result"
    }
   ],
   "source": [
    "df.shape[1]"
   ]
  },
  {
   "cell_type": "raw",
   "id": "677c8382",
   "metadata": {},
   "source": [
    "Observation: There are 391 rows of data and 11 column of different attribute, according to the previous code, they are row_n, id, name, gender, species, birthday, personality, song, phrase, full_id, and url."
   ]
  },
  {
   "cell_type": "code",
   "execution_count": null,
   "id": "479282e8",
   "metadata": {},
   "outputs": [],
   "source": [
    "ChatGPT provided me the code to get the number of rows and columns in the data set."
   ]
  },
  {
   "cell_type": "code",
   "execution_count": null,
   "id": "6293f4ea",
   "metadata": {},
   "outputs": [],
   "source": [
    "3.\n",
    "Prompt: I have a dataset downloaded. How can I provide simple summaries of the columns in the dataset? \n",
    "    Can you give me some Python code examples?\n",
    "ChatGPT:\n",
    "    Load your dataset and summarize the columns\n",
    "    import pandas as pd\n",
    "\n",
    "# Load dataset\n",
    "df = pd.read_csv('your_dataset.csv')  # replace with your dataset path\n",
    "\n",
    "# Display the first few rows of the dataset\n",
    "print(df.head())\n",
    "\n",
    "# Summary statistics for numerical columns\n",
    "print(df.describe())\n",
    "\n",
    "# Summary statistics for all columns, including non-numeric ones\n",
    "print(df.describe(include='all'))\n",
    "\n",
    "# Get the data types of each column\n",
    "print(df.dtypes)\n",
    "\n",
    "# Check for missing values in each column\n",
    "print(df.isnull().sum())\n",
    "\n",
    "# Display basic information about the dataset\n",
    "print(df.info())\n",
    "\n",
    "Explanation:\n",
    "df.head(): Displays the first few rows of your dataset.\n",
    "df.describe(): Provides a summary of statistics (e.g., mean, std, min, max) for numerical columns.\n",
    "df.describe(include='all'): Summarizes all columns, including categorical ones.\n",
    "df.dtypes: Shows the data type of each column.\n",
    "df.isnull().sum(): Shows the count of missing values for each column.\n",
    "df.info(): Displays basic information like the number of non-null entries and data types.\n",
    "Let me know if you need help with specific parts of the dataset!"
   ]
  },
  {
   "cell_type": "code",
   "execution_count": 6,
   "id": "b2d5f882",
   "metadata": {},
   "outputs": [
    {
     "name": "stdout",
     "output_type": "stream",
     "text": [
      "   row_n       id     name  gender    species birthday personality  \\\n",
      "0      2  admiral  Admiral    male       bird     1-27      cranky   \n",
      "1      3  agent-s  Agent S  female   squirrel      7-2       peppy   \n",
      "2      4    agnes    Agnes  female        pig     4-21        uchi   \n",
      "3      6       al       Al    male    gorilla    10-18        lazy   \n",
      "4      7  alfonso  Alfonso    male  alligator      6-9        lazy   \n",
      "\n",
      "          song    phrase           full_id  \\\n",
      "0   Steep Hill   aye aye  villager-admiral   \n",
      "1      DJ K.K.  sidekick  villager-agent-s   \n",
      "2   K.K. House   snuffle    villager-agnes   \n",
      "3   Steep Hill   Ayyeeee       villager-al   \n",
      "4  Forest Life  it'sa me  villager-alfonso   \n",
      "\n",
      "                                                 url  \n",
      "0  https://villagerdb.com/images/villagers/thumb/...  \n",
      "1  https://villagerdb.com/images/villagers/thumb/...  \n",
      "2  https://villagerdb.com/images/villagers/thumb/...  \n",
      "3  https://villagerdb.com/images/villagers/thumb/...  \n",
      "4  https://villagerdb.com/images/villagers/thumb/...  \n",
      "            row_n\n",
      "count  391.000000\n",
      "mean   239.902813\n",
      "std    140.702672\n",
      "min      2.000000\n",
      "25%    117.500000\n",
      "50%    240.000000\n",
      "75%    363.500000\n",
      "max    483.000000\n",
      "             row_n       id     name gender species birthday personality  \\\n",
      "count   391.000000      390      391    391     391      391         391   \n",
      "unique         NaN      390      391      2      35      361           8   \n",
      "top            NaN  admiral  Admiral   male     cat     1-27        lazy   \n",
      "freq           NaN        1        1    204      23        2          60   \n",
      "mean    239.902813      NaN      NaN    NaN     NaN      NaN         NaN   \n",
      "std     140.702672      NaN      NaN    NaN     NaN      NaN         NaN   \n",
      "min       2.000000      NaN      NaN    NaN     NaN      NaN         NaN   \n",
      "25%     117.500000      NaN      NaN    NaN     NaN      NaN         NaN   \n",
      "50%     240.000000      NaN      NaN    NaN     NaN      NaN         NaN   \n",
      "75%     363.500000      NaN      NaN    NaN     NaN      NaN         NaN   \n",
      "max     483.000000      NaN      NaN    NaN     NaN      NaN         NaN   \n",
      "\n",
      "                song   phrase           full_id  \\\n",
      "count            380      391               391   \n",
      "unique            92      388               391   \n",
      "top     K.K. Country  wee one  villager-admiral   \n",
      "freq              10        2                 1   \n",
      "mean             NaN      NaN               NaN   \n",
      "std              NaN      NaN               NaN   \n",
      "min              NaN      NaN               NaN   \n",
      "25%              NaN      NaN               NaN   \n",
      "50%              NaN      NaN               NaN   \n",
      "75%              NaN      NaN               NaN   \n",
      "max              NaN      NaN               NaN   \n",
      "\n",
      "                                                      url  \n",
      "count                                                 391  \n",
      "unique                                                391  \n",
      "top     https://villagerdb.com/images/villagers/thumb/...  \n",
      "freq                                                    1  \n",
      "mean                                                  NaN  \n",
      "std                                                   NaN  \n",
      "min                                                   NaN  \n",
      "25%                                                   NaN  \n",
      "50%                                                   NaN  \n",
      "75%                                                   NaN  \n",
      "max                                                   NaN  \n",
      "row_n           int64\n",
      "id             object\n",
      "name           object\n",
      "gender         object\n",
      "species        object\n",
      "birthday       object\n",
      "personality    object\n",
      "song           object\n",
      "phrase         object\n",
      "full_id        object\n",
      "url            object\n",
      "dtype: object\n",
      "row_n           0\n",
      "id              1\n",
      "name            0\n",
      "gender          0\n",
      "species         0\n",
      "birthday        0\n",
      "personality     0\n",
      "song           11\n",
      "phrase          0\n",
      "full_id         0\n",
      "url             0\n",
      "dtype: int64\n",
      "<class 'pandas.core.frame.DataFrame'>\n",
      "RangeIndex: 391 entries, 0 to 390\n",
      "Data columns (total 11 columns):\n",
      " #   Column       Non-Null Count  Dtype \n",
      "---  ------       --------------  ----- \n",
      " 0   row_n        391 non-null    int64 \n",
      " 1   id           390 non-null    object\n",
      " 2   name         391 non-null    object\n",
      " 3   gender       391 non-null    object\n",
      " 4   species      391 non-null    object\n",
      " 5   birthday     391 non-null    object\n",
      " 6   personality  391 non-null    object\n",
      " 7   song         380 non-null    object\n",
      " 8   phrase       391 non-null    object\n",
      " 9   full_id      391 non-null    object\n",
      " 10  url          391 non-null    object\n",
      "dtypes: int64(1), object(10)\n",
      "memory usage: 33.7+ KB\n",
      "None\n"
     ]
    }
   ],
   "source": [
    "# Display the first few rows of the dataset\n",
    "print(df.head())\n",
    "\n",
    "# Summary statistics for numerical columns\n",
    "print(df.describe())\n",
    "\n",
    "# Summary statistics for all columns, including non-numeric ones\n",
    "print(df.describe(include='all'))\n",
    "\n",
    "# Get the data types of each column\n",
    "print(df.dtypes)\n",
    "\n",
    "# Check for missing values in each column\n",
    "print(df.isnull().sum())\n",
    "\n",
    "# Display basic information about the dataset\n",
    "print(df.info())\n",
    "\n"
   ]
  },
  {
   "cell_type": "code",
   "execution_count": 7,
   "id": "2a07c56d",
   "metadata": {},
   "outputs": [
    {
     "data": {
      "text/html": [
       "<div>\n",
       "<style scoped>\n",
       "    .dataframe tbody tr th:only-of-type {\n",
       "        vertical-align: middle;\n",
       "    }\n",
       "\n",
       "    .dataframe tbody tr th {\n",
       "        vertical-align: top;\n",
       "    }\n",
       "\n",
       "    .dataframe thead th {\n",
       "        text-align: right;\n",
       "    }\n",
       "</style>\n",
       "<table border=\"1\" class=\"dataframe\">\n",
       "  <thead>\n",
       "    <tr style=\"text-align: right;\">\n",
       "      <th></th>\n",
       "      <th>row_n</th>\n",
       "    </tr>\n",
       "  </thead>\n",
       "  <tbody>\n",
       "    <tr>\n",
       "      <th>count</th>\n",
       "      <td>391.000000</td>\n",
       "    </tr>\n",
       "    <tr>\n",
       "      <th>mean</th>\n",
       "      <td>239.902813</td>\n",
       "    </tr>\n",
       "    <tr>\n",
       "      <th>std</th>\n",
       "      <td>140.702672</td>\n",
       "    </tr>\n",
       "    <tr>\n",
       "      <th>min</th>\n",
       "      <td>2.000000</td>\n",
       "    </tr>\n",
       "    <tr>\n",
       "      <th>25%</th>\n",
       "      <td>117.500000</td>\n",
       "    </tr>\n",
       "    <tr>\n",
       "      <th>50%</th>\n",
       "      <td>240.000000</td>\n",
       "    </tr>\n",
       "    <tr>\n",
       "      <th>75%</th>\n",
       "      <td>363.500000</td>\n",
       "    </tr>\n",
       "    <tr>\n",
       "      <th>max</th>\n",
       "      <td>483.000000</td>\n",
       "    </tr>\n",
       "  </tbody>\n",
       "</table>\n",
       "</div>"
      ],
      "text/plain": [
       "            row_n\n",
       "count  391.000000\n",
       "mean   239.902813\n",
       "std    140.702672\n",
       "min      2.000000\n",
       "25%    117.500000\n",
       "50%    240.000000\n",
       "75%    363.500000\n",
       "max    483.000000"
      ]
     },
     "execution_count": 7,
     "metadata": {},
     "output_type": "execute_result"
    }
   ],
   "source": [
    "df.describe()\n"
   ]
  },
  {
   "cell_type": "code",
   "execution_count": 9,
   "id": "5016b61d",
   "metadata": {},
   "outputs": [
    {
     "data": {
      "text/plain": [
       "species\n",
       "cat          23\n",
       "rabbit       20\n",
       "frog         18\n",
       "squirrel     18\n",
       "duck         17\n",
       "dog          16\n",
       "cub          16\n",
       "pig          15\n",
       "bear         15\n",
       "mouse        15\n",
       "horse        15\n",
       "bird         13\n",
       "penguin      13\n",
       "sheep        13\n",
       "elephant     11\n",
       "wolf         11\n",
       "ostrich      10\n",
       "deer         10\n",
       "eagle         9\n",
       "gorilla       9\n",
       "chicken       9\n",
       "koala         9\n",
       "goat          8\n",
       "hamster       8\n",
       "kangaroo      8\n",
       "monkey        8\n",
       "anteater      7\n",
       "hippo         7\n",
       "tiger         7\n",
       "alligator     7\n",
       "lion          7\n",
       "bull          6\n",
       "rhino         6\n",
       "cow           4\n",
       "octopus       3\n",
       "Name: count, dtype: int64"
      ]
     },
     "execution_count": 9,
     "metadata": {},
     "output_type": "execute_result"
    }
   ],
   "source": [
    "# Summarize categorical data for a specific column\n",
    "df['species'].value_counts()"
   ]
  },
  {
   "cell_type": "code",
   "execution_count": 10,
   "id": "288778db",
   "metadata": {},
   "outputs": [
    {
     "data": {
      "text/plain": [
       "gender\n",
       "male      204\n",
       "female    187\n",
       "Name: count, dtype: int64"
      ]
     },
     "execution_count": 10,
     "metadata": {},
     "output_type": "execute_result"
    }
   ],
   "source": [
    "df['gender'].value_counts()"
   ]
  },
  {
   "cell_type": "code",
   "execution_count": 11,
   "id": "77d5fa32",
   "metadata": {},
   "outputs": [
    {
     "name": "stdout",
     "output_type": "stream",
     "text": [
      "   row_n       id     name  gender    species birthday personality  \\\n",
      "0      2  admiral  Admiral    male       bird     1-27      cranky   \n",
      "1      3  agent-s  Agent S  female   squirrel      7-2       peppy   \n",
      "2      4    agnes    Agnes  female        pig     4-21        uchi   \n",
      "3      6       al       Al    male    gorilla    10-18        lazy   \n",
      "4      7  alfonso  Alfonso    male  alligator      6-9        lazy   \n",
      "\n",
      "          song    phrase           full_id  \\\n",
      "0   Steep Hill   aye aye  villager-admiral   \n",
      "1      DJ K.K.  sidekick  villager-agent-s   \n",
      "2   K.K. House   snuffle    villager-agnes   \n",
      "3   Steep Hill   Ayyeeee       villager-al   \n",
      "4  Forest Life  it'sa me  villager-alfonso   \n",
      "\n",
      "                                                 url  \n",
      "0  https://villagerdb.com/images/villagers/thumb/...  \n",
      "1  https://villagerdb.com/images/villagers/thumb/...  \n",
      "2  https://villagerdb.com/images/villagers/thumb/...  \n",
      "3  https://villagerdb.com/images/villagers/thumb/...  \n",
      "4  https://villagerdb.com/images/villagers/thumb/...  \n"
     ]
    }
   ],
   "source": [
    "print(df.head())\n"
   ]
  },
  {
   "cell_type": "code",
   "execution_count": 12,
   "id": "a2201261",
   "metadata": {},
   "outputs": [
    {
     "name": "stdout",
     "output_type": "stream",
     "text": [
      "            row_n\n",
      "count  391.000000\n",
      "mean   239.902813\n",
      "std    140.702672\n",
      "min      2.000000\n",
      "25%    117.500000\n",
      "50%    240.000000\n",
      "75%    363.500000\n",
      "max    483.000000\n"
     ]
    }
   ],
   "source": [
    "print(df.describe())\n"
   ]
  },
  {
   "cell_type": "code",
   "execution_count": 13,
   "id": "df9d0e03",
   "metadata": {},
   "outputs": [
    {
     "name": "stdout",
     "output_type": "stream",
     "text": [
      "             row_n       id     name gender species birthday personality  \\\n",
      "count   391.000000      390      391    391     391      391         391   \n",
      "unique         NaN      390      391      2      35      361           8   \n",
      "top            NaN  admiral  Admiral   male     cat     1-27        lazy   \n",
      "freq           NaN        1        1    204      23        2          60   \n",
      "mean    239.902813      NaN      NaN    NaN     NaN      NaN         NaN   \n",
      "std     140.702672      NaN      NaN    NaN     NaN      NaN         NaN   \n",
      "min       2.000000      NaN      NaN    NaN     NaN      NaN         NaN   \n",
      "25%     117.500000      NaN      NaN    NaN     NaN      NaN         NaN   \n",
      "50%     240.000000      NaN      NaN    NaN     NaN      NaN         NaN   \n",
      "75%     363.500000      NaN      NaN    NaN     NaN      NaN         NaN   \n",
      "max     483.000000      NaN      NaN    NaN     NaN      NaN         NaN   \n",
      "\n",
      "                song   phrase           full_id  \\\n",
      "count            380      391               391   \n",
      "unique            92      388               391   \n",
      "top     K.K. Country  wee one  villager-admiral   \n",
      "freq              10        2                 1   \n",
      "mean             NaN      NaN               NaN   \n",
      "std              NaN      NaN               NaN   \n",
      "min              NaN      NaN               NaN   \n",
      "25%              NaN      NaN               NaN   \n",
      "50%              NaN      NaN               NaN   \n",
      "75%              NaN      NaN               NaN   \n",
      "max              NaN      NaN               NaN   \n",
      "\n",
      "                                                      url  \n",
      "count                                                 391  \n",
      "unique                                                391  \n",
      "top     https://villagerdb.com/images/villagers/thumb/...  \n",
      "freq                                                    1  \n",
      "mean                                                  NaN  \n",
      "std                                                   NaN  \n",
      "min                                                   NaN  \n",
      "25%                                                   NaN  \n",
      "50%                                                   NaN  \n",
      "75%                                                   NaN  \n",
      "max                                                   NaN  \n"
     ]
    }
   ],
   "source": [
    "print(df.describe(include='all'))\n"
   ]
  },
  {
   "cell_type": "code",
   "execution_count": 14,
   "id": "494edace",
   "metadata": {},
   "outputs": [
    {
     "name": "stdout",
     "output_type": "stream",
     "text": [
      "row_n           int64\n",
      "id             object\n",
      "name           object\n",
      "gender         object\n",
      "species        object\n",
      "birthday       object\n",
      "personality    object\n",
      "song           object\n",
      "phrase         object\n",
      "full_id        object\n",
      "url            object\n",
      "dtype: object\n"
     ]
    }
   ],
   "source": [
    "print(df.dtypes)\n"
   ]
  },
  {
   "cell_type": "code",
   "execution_count": 15,
   "id": "1f33322b",
   "metadata": {},
   "outputs": [
    {
     "name": "stdout",
     "output_type": "stream",
     "text": [
      "row_n           0\n",
      "id              1\n",
      "name            0\n",
      "gender          0\n",
      "species         0\n",
      "birthday        0\n",
      "personality     0\n",
      "song           11\n",
      "phrase          0\n",
      "full_id         0\n",
      "url             0\n",
      "dtype: int64\n"
     ]
    }
   ],
   "source": [
    "print(df.isnull().sum())\n"
   ]
  },
  {
   "cell_type": "code",
   "execution_count": 16,
   "id": "92205180",
   "metadata": {},
   "outputs": [
    {
     "name": "stdout",
     "output_type": "stream",
     "text": [
      "<class 'pandas.core.frame.DataFrame'>\n",
      "RangeIndex: 391 entries, 0 to 390\n",
      "Data columns (total 11 columns):\n",
      " #   Column       Non-Null Count  Dtype \n",
      "---  ------       --------------  ----- \n",
      " 0   row_n        391 non-null    int64 \n",
      " 1   id           390 non-null    object\n",
      " 2   name         391 non-null    object\n",
      " 3   gender       391 non-null    object\n",
      " 4   species      391 non-null    object\n",
      " 5   birthday     391 non-null    object\n",
      " 6   personality  391 non-null    object\n",
      " 7   song         380 non-null    object\n",
      " 8   phrase       391 non-null    object\n",
      " 9   full_id      391 non-null    object\n",
      " 10  url          391 non-null    object\n",
      "dtypes: int64(1), object(10)\n",
      "memory usage: 33.7+ KB\n",
      "None\n"
     ]
    }
   ],
   "source": [
    "print(df.info())\n"
   ]
  },
  {
   "cell_type": "markdown",
   "id": "37b81ec7",
   "metadata": {},
   "source": [
    "4. "
   ]
  },
  {
   "cell_type": "code",
   "execution_count": 18,
   "id": "b923005d",
   "metadata": {},
   "outputs": [
    {
     "data": {
      "text/plain": [
       "11"
      ]
     },
     "execution_count": 18,
     "metadata": {},
     "output_type": "execute_result"
    }
   ],
   "source": [
    "df.shape[1]"
   ]
  },
  {
   "cell_type": "code",
   "execution_count": 19,
   "id": "c57d7a57",
   "metadata": {},
   "outputs": [
    {
     "data": {
      "text/html": [
       "<div>\n",
       "<style scoped>\n",
       "    .dataframe tbody tr th:only-of-type {\n",
       "        vertical-align: middle;\n",
       "    }\n",
       "\n",
       "    .dataframe tbody tr th {\n",
       "        vertical-align: top;\n",
       "    }\n",
       "\n",
       "    .dataframe thead th {\n",
       "        text-align: right;\n",
       "    }\n",
       "</style>\n",
       "<table border=\"1\" class=\"dataframe\">\n",
       "  <thead>\n",
       "    <tr style=\"text-align: right;\">\n",
       "      <th></th>\n",
       "      <th>row_n</th>\n",
       "    </tr>\n",
       "  </thead>\n",
       "  <tbody>\n",
       "    <tr>\n",
       "      <th>count</th>\n",
       "      <td>391.000000</td>\n",
       "    </tr>\n",
       "    <tr>\n",
       "      <th>mean</th>\n",
       "      <td>239.902813</td>\n",
       "    </tr>\n",
       "    <tr>\n",
       "      <th>std</th>\n",
       "      <td>140.702672</td>\n",
       "    </tr>\n",
       "    <tr>\n",
       "      <th>min</th>\n",
       "      <td>2.000000</td>\n",
       "    </tr>\n",
       "    <tr>\n",
       "      <th>25%</th>\n",
       "      <td>117.500000</td>\n",
       "    </tr>\n",
       "    <tr>\n",
       "      <th>50%</th>\n",
       "      <td>240.000000</td>\n",
       "    </tr>\n",
       "    <tr>\n",
       "      <th>75%</th>\n",
       "      <td>363.500000</td>\n",
       "    </tr>\n",
       "    <tr>\n",
       "      <th>max</th>\n",
       "      <td>483.000000</td>\n",
       "    </tr>\n",
       "  </tbody>\n",
       "</table>\n",
       "</div>"
      ],
      "text/plain": [
       "            row_n\n",
       "count  391.000000\n",
       "mean   239.902813\n",
       "std    140.702672\n",
       "min      2.000000\n",
       "25%    117.500000\n",
       "50%    240.000000\n",
       "75%    363.500000\n",
       "max    483.000000"
      ]
     },
     "execution_count": 19,
     "metadata": {},
     "output_type": "execute_result"
    }
   ],
   "source": [
    "# Summary statistics for numeric columns\n",
    "df.describe()\n"
   ]
  },
  {
   "cell_type": "markdown",
   "id": "c668135d",
   "metadata": {},
   "source": [
    "The number of columns show up in .describe() method is less than .shape[1] method because only numeric attribute will show up in .describe method."
   ]
  },
  {
   "cell_type": "code",
   "execution_count": 20,
   "id": "018ad6ba",
   "metadata": {},
   "outputs": [
    {
     "data": {
      "text/plain": [
       "391"
      ]
     },
     "execution_count": 20,
     "metadata": {},
     "output_type": "execute_result"
    }
   ],
   "source": [
    "df.shape[0]"
   ]
  },
  {
   "cell_type": "code",
   "execution_count": 21,
   "id": "ecdc5343",
   "metadata": {},
   "outputs": [
    {
     "data": {
      "text/html": [
       "<div>\n",
       "<style scoped>\n",
       "    .dataframe tbody tr th:only-of-type {\n",
       "        vertical-align: middle;\n",
       "    }\n",
       "\n",
       "    .dataframe tbody tr th {\n",
       "        vertical-align: top;\n",
       "    }\n",
       "\n",
       "    .dataframe thead th {\n",
       "        text-align: right;\n",
       "    }\n",
       "</style>\n",
       "<table border=\"1\" class=\"dataframe\">\n",
       "  <thead>\n",
       "    <tr style=\"text-align: right;\">\n",
       "      <th></th>\n",
       "      <th>row_n</th>\n",
       "    </tr>\n",
       "  </thead>\n",
       "  <tbody>\n",
       "    <tr>\n",
       "      <th>count</th>\n",
       "      <td>391.000000</td>\n",
       "    </tr>\n",
       "    <tr>\n",
       "      <th>mean</th>\n",
       "      <td>239.902813</td>\n",
       "    </tr>\n",
       "    <tr>\n",
       "      <th>std</th>\n",
       "      <td>140.702672</td>\n",
       "    </tr>\n",
       "    <tr>\n",
       "      <th>min</th>\n",
       "      <td>2.000000</td>\n",
       "    </tr>\n",
       "    <tr>\n",
       "      <th>25%</th>\n",
       "      <td>117.500000</td>\n",
       "    </tr>\n",
       "    <tr>\n",
       "      <th>50%</th>\n",
       "      <td>240.000000</td>\n",
       "    </tr>\n",
       "    <tr>\n",
       "      <th>75%</th>\n",
       "      <td>363.500000</td>\n",
       "    </tr>\n",
       "    <tr>\n",
       "      <th>max</th>\n",
       "      <td>483.000000</td>\n",
       "    </tr>\n",
       "  </tbody>\n",
       "</table>\n",
       "</div>"
      ],
      "text/plain": [
       "            row_n\n",
       "count  391.000000\n",
       "mean   239.902813\n",
       "std    140.702672\n",
       "min      2.000000\n",
       "25%    117.500000\n",
       "50%    240.000000\n",
       "75%    363.500000\n",
       "max    483.000000"
      ]
     },
     "execution_count": 21,
     "metadata": {},
     "output_type": "execute_result"
    }
   ],
   "source": [
    "df.describe()"
   ]
  },
  {
   "cell_type": "raw",
   "id": "b6e0b4a9",
   "metadata": {},
   "source": [
    "The .shape[0] has the same value as .describe meaning there are no missing values. "
   ]
  },
  {
   "cell_type": "markdown",
   "id": "105443a2",
   "metadata": {},
   "source": [
    "No other errors occur"
   ]
  },
  {
   "cell_type": "markdown",
   "id": "cb5e4f83",
   "metadata": {},
   "source": [
    "5.\n",
    "Attribute are like variables that are stored as the information of an object, you can access them without using the parenthesis. Additionally, attributes don't perform actions, they only return a value\n",
    "Meanwhile, methods are functions that belong to the objects that you can call but with parenthesis considering function something might accept parameter. Methods also change something in the data they either return a result or motify the object's attributes. "
   ]
  },
  {
   "cell_type": "markdown",
   "id": "cd4032d3",
   "metadata": {},
   "source": [
    "https://chatgpt.com/share/66e3ae15-6250-800d-bc36-231de57a10ce"
   ]
  },
  {
   "cell_type": "markdown",
   "id": "9746ca2d",
   "metadata": {},
   "source": [
    "6. \n",
    "count: The number of non-null objects in the column which tells how many valid values there are.\n",
    "\n",
    "mean: The average of the values in the column. \n",
    "\n",
    "std (Standard Deviation): A measure of how spread out the values are from the mean. A low standard deviation indicates that the values are close to the mean, while a high standard deviation shows a wider range.\n",
    "\n",
    "min: The minimum value in the column\n",
    "\n",
    "25% (1st Quartile): The value below which 25% of the data fall. It divides the lowest 25% of the data from the rest.\n",
    "\n",
    "50% (Median or 2nd Quartile): The middle value in the data. Half the values are less than or equal to this value, and half are greater.\n",
    "\n",
    "75% (3rd Quartile): The value below which 75% of the data fall. It divides the highest 25% of the data from the rest.\n",
    "\n",
    "max: The maximum value in the column \n",
    "\n",
    "*** .describe() method only apply on numeric attribute which means in this dataset as example, gender and species will not show up. \n"
   ]
  },
  {
   "cell_type": "markdown",
   "id": "6628062b",
   "metadata": {},
   "source": [
    "7."
   ]
  },
  {
   "cell_type": "code",
   "execution_count": 22,
   "id": "37e53078",
   "metadata": {},
   "outputs": [],
   "source": [
    "df_cleaned = df.dropna()\n"
   ]
  },
  {
   "cell_type": "code",
   "execution_count": 23,
   "id": "e0488c59",
   "metadata": {},
   "outputs": [],
   "source": [
    "del df['gender']"
   ]
  },
  {
   "cell_type": "markdown",
   "id": "577de6e3",
   "metadata": {},
   "source": [
    "(1)\n",
    "In the case where you would prefer .dropna() method is where among the dataset, only around 10% of the objects are missing that attribute then we might consider just remove the rows that are missing the column instead of removing the whole column\n",
    "\n",
    "(2)\n",
    "Vice versa, if in the case where majority of the objects are missing the attribute or data in one column, we now might want to the remove the column directly rather than removing the rows that do not have the column\n",
    "\n",
    "(3)\n",
    "That is also why del df['col'] should be ahead of df.dropna() in case some columns have a significant number of missing values. In that way, you might prevent yourself from removing unnecessary rows. If you do df.dropna(), you could eventually remove much more rows than you actually needed since some of them were missing only in columns which you would like to delete anyway.\n",
    "\n",
    "(4)\n",
    "ChatGPT\n",
    "Dataset Example:\n",
    "\n",
    "import pandas as pd\n",
    "\n",
    "# Sample DataFrame with missing data\n",
    "data = {'Name': ['Alice', 'Bob', 'Charlie', 'David'],\n",
    "        'Age': [25, None, 35, 40],\n",
    "        'Salary': [50000, 55000, None, 65000],\n",
    "        'Remarks': [None, None, 'Good', None]}\n",
    "\n",
    "df = pd.DataFrame(data)\n",
    "\n",
    "print(\"Before Cleaning:\")\n",
    "print(df)\n",
    "\n",
    "# Approach:\n",
    "# Step 1: Remove the 'Remarks' column because it has too many missing values\n",
    "del df['Remarks']\n",
    "\n",
    "# Step 2: Drop rows with missing values\n",
    "df_cleaned = df.dropna()\n",
    "\n",
    "print(\"\\nAfter Cleaning:\")\n",
    "print(df_cleaned)\n",
    "\n",
    "\n",
    "Justification:\n",
    "1. Before Cleaning:\n",
    "     Name   Age   Salary Remarks\n",
    "0    Alice  25.0  50000.0    None\n",
    "1      Bob   NaN  55000.0    None\n",
    "2  Charlie  35.0      NaN    Good\n",
    "3    David  40.0  65000.0    None\n",
    "\n",
    "2. After Cleaning:\n",
    "\n",
    "     Name   Age   Salary\n",
    "0    Alice  25.0  50000.0\n",
    "3    David  40.0  65000.0\n",
    "\n",
    "Why this approach:\n",
    "The 'Remarks' column was mostly filled with NaN; hence, it was removed by del df['Remarks']. Then, any rows with missing values were dropped using df.dropna(), which ensures that only complete rows remain. This would clean the missing data to retain relevant and complete information in the resultant DataFrame.\n",
    "https://chatgpt.com/share/66e3b4dd-e038-800d-bec1-53cfd67fc1d9\n"
   ]
  },
  {
   "cell_type": "markdown",
   "id": "ec743397",
   "metadata": {},
   "source": [
    "8.\n",
    "(1)\n",
    "It groups the data based on unique values in col1 and applies the describe() method to summarize the statistics of col2 in each group. The describe() function returns summary statistics like count, mean, std etc.\n",
    "\n",
    "(2)\n",
    "With df.describe(), count gives the number of entries that are not missing in any of the columns of the dataset. In the case of df.groupby(\"col1\")[\"col2\"].describe() instead, the count gives the number of non-missing values in col2, but now computed on each of the distinct groups of col1.\n",
    "\n",
    "\n",
    "(3)\n",
    "a)\n",
    "If panda is not imported as pd, then it shows the error: NameError: name 'pd' is not defined. You can describe the error in a ChatBot session, and it will immediately suggest adding the missing import statement. The same search at Google would give you results from blog posts or discussions in StackOverflow that explain the error. ChatBot is probably faster to provide a direct solution.\n",
    "\n",
    "b)\n",
    "The ChatBot will recommend checking the file path for a typo. Similarly, searching this error in Google, suggestions will pop-up regarding the verification of the filename. Both give an easy and quick solution.\n",
    "\n",
    "c)\n",
    "where, instead of \"titanic.csv\", we typed \"titanics.csv\" gives us the following error: FileNotFoundError: [Errno 2] No such file or directory: 'titanics.csv'. The ChatBot would then suggest that we should check the path to our file and correct the misspelling. Googling the error would suggest similarly. This minor problem would easily be resolved either by ChatBot or Google.\n",
    "\n",
    "d)\n",
    "A ChatBot can provide specific feedback on where the missing parenthesis is. While Google may give examples of where this happens, ChatBot provides you with more direct hints on where it occurs in your code.\n",
    "\n",
    "e)\n",
    "Error: AttributeError: 'DataFrame' object has no attribute 'group_by' A ChatBot would say that the method is groupby and not group_by. Google would do something similar by giving examples of this type of error and how it is fixed.\n",
    "\n",
    "f)\n",
    "Either the column name has a capitalization problem: check what columns exist via titanic_df.columns.\n",
    "If you google it, you will probably find similar suggestions that involve checking column names.\n",
    "\n",
    "g)\n",
    "A ChatBot will say, column names should always be in quotes because they are strings - they are not variables.\n",
    "Google will be able to show general examples of the problem but might be slower for you to look through because the longer explanations will have to be sifted through.\n",
    "\n"
   ]
  },
  {
   "cell_type": "markdown",
   "id": "a898b2e9",
   "metadata": {},
   "source": [
    "9.\n",
    "Yes"
   ]
  }
 ],
 "metadata": {
  "kernelspec": {
   "display_name": "Python 3 (ipykernel)",
   "language": "python",
   "name": "python3"
  },
  "language_info": {
   "codemirror_mode": {
    "name": "ipython",
    "version": 3
   },
   "file_extension": ".py",
   "mimetype": "text/x-python",
   "name": "python",
   "nbconvert_exporter": "python",
   "pygments_lexer": "ipython3",
   "version": "3.11.6"
  }
 },
 "nbformat": 4,
 "nbformat_minor": 5
}
